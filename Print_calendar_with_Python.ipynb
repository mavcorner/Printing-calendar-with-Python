{
  "nbformat": 4,
  "nbformat_minor": 0,
  "metadata": {
    "colab": {
      "provenance": []
    },
    "kernelspec": {
      "name": "python3",
      "display_name": "Python 3"
    },
    "language_info": {
      "name": "python"
    }
  },
  "cells": [
    {
      "cell_type": "markdown",
      "source": [
        "Import necessary module"
      ],
      "metadata": {
        "id": "9g6OOPECQdGx"
      }
    },
    {
      "cell_type": "code",
      "execution_count": 2,
      "metadata": {
        "colab": {
          "base_uri": "https://localhost:8080/"
        },
        "id": "hyXIUEcwQTVZ",
        "outputId": "1d2abb20-206a-4513-dd7b-630280c6ee09"
      },
      "outputs": [
        {
          "output_type": "stream",
          "name": "stdout",
          "text": [
            "Enter Year:2023\n",
            "                                              2023\n",
            "\n",
            "          January                           February                           March\n",
            "Mon Tue Wed Thu Fri Sat Sun       Mon Tue Wed Thu Fri Sat Sun       Mon Tue Wed Thu Fri Sat Sun\n",
            "                          1                 1   2   3   4   5                 1   2   3   4   5\n",
            "  2   3   4   5   6   7   8         6   7   8   9  10  11  12         6   7   8   9  10  11  12\n",
            "  9  10  11  12  13  14  15        13  14  15  16  17  18  19        13  14  15  16  17  18  19\n",
            " 16  17  18  19  20  21  22        20  21  22  23  24  25  26        20  21  22  23  24  25  26\n",
            " 23  24  25  26  27  28  29        27  28                            27  28  29  30  31\n",
            " 30  31\n",
            "\n",
            "           April                              May                               June\n",
            "Mon Tue Wed Thu Fri Sat Sun       Mon Tue Wed Thu Fri Sat Sun       Mon Tue Wed Thu Fri Sat Sun\n",
            "                      1   2         1   2   3   4   5   6   7                     1   2   3   4\n",
            "  3   4   5   6   7   8   9         8   9  10  11  12  13  14         5   6   7   8   9  10  11\n",
            " 10  11  12  13  14  15  16        15  16  17  18  19  20  21        12  13  14  15  16  17  18\n",
            " 17  18  19  20  21  22  23        22  23  24  25  26  27  28        19  20  21  22  23  24  25\n",
            " 24  25  26  27  28  29  30        29  30  31                        26  27  28  29  30\n",
            "\n",
            "            July                             August                          September\n",
            "Mon Tue Wed Thu Fri Sat Sun       Mon Tue Wed Thu Fri Sat Sun       Mon Tue Wed Thu Fri Sat Sun\n",
            "                      1   2             1   2   3   4   5   6                         1   2   3\n",
            "  3   4   5   6   7   8   9         7   8   9  10  11  12  13         4   5   6   7   8   9  10\n",
            " 10  11  12  13  14  15  16        14  15  16  17  18  19  20        11  12  13  14  15  16  17\n",
            " 17  18  19  20  21  22  23        21  22  23  24  25  26  27        18  19  20  21  22  23  24\n",
            " 24  25  26  27  28  29  30        28  29  30  31                    25  26  27  28  29  30\n",
            " 31\n",
            "\n",
            "          October                           November                          December\n",
            "Mon Tue Wed Thu Fri Sat Sun       Mon Tue Wed Thu Fri Sat Sun       Mon Tue Wed Thu Fri Sat Sun\n",
            "                          1                 1   2   3   4   5                         1   2   3\n",
            "  2   3   4   5   6   7   8         6   7   8   9  10  11  12         4   5   6   7   8   9  10\n",
            "  9  10  11  12  13  14  15        13  14  15  16  17  18  19        11  12  13  14  15  16  17\n",
            " 16  17  18  19  20  21  22        20  21  22  23  24  25  26        18  19  20  21  22  23  24\n",
            " 23  24  25  26  27  28  29        27  28  29  30                    25  26  27  28  29  30  31\n",
            " 30  31\n",
            "\n"
          ]
        }
      ],
      "source": [
        "from calendar import*\n",
        "year = int(input('Enter Year:'))\n",
        "print(calendar(year, 3, 1, 7))"
      ]
    },
    {
      "cell_type": "markdown",
      "source": [
        "3 is 3 characters for days (Mon, Tue)\n",
        "\n",
        "1 is 1 row or line for every week\n",
        "\n",
        "7 is 7 rows for each month.\n"
      ],
      "metadata": {
        "id": "VKrtYaFQRps4"
      }
    }
  ]
}